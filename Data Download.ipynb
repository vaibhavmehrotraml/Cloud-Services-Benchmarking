{
 "cells": [
  {
   "cell_type": "markdown",
   "metadata": {
    "application/vnd.databricks.v1+cell": {
     "cellMetadata": {},
     "inputWidgets": {},
     "nuid": "6bfb62f5-927e-41d9-a1aa-d6fea404fdd5",
     "showTitle": false,
     "title": ""
    }
   },
   "source": [
    "# Download Data from GCP to DBFZ"
   ]
  },
  {
   "cell_type": "code",
   "execution_count": 0,
   "metadata": {
    "application/vnd.databricks.v1+cell": {
     "cellMetadata": {
      "byteLimit": 2048000,
      "rowLimit": 10000
     },
     "inputWidgets": {},
     "nuid": "09b00e6c-a2c3-4076-b1e0-06a20be7809e",
     "showTitle": false,
     "title": ""
    }
   },
   "outputs": [],
   "source": [
    "%ls /dbfs/FileStore/shared_uploads/data4"
   ]
  },
  {
   "cell_type": "code",
   "execution_count": 0,
   "metadata": {
    "application/vnd.databricks.v1+cell": {
     "cellMetadata": {
      "byteLimit": 2048000,
      "rowLimit": 10000
     },
     "inputWidgets": {},
     "nuid": "5d8db032-82d6-46c5-b01c-a43e18b0b419",
     "showTitle": false,
     "title": ""
    }
   },
   "outputs": [],
   "source": [
    "%cp -r /dbfs/FileStore/shared_uploads/data /dbfs/FileStore/shared_uploads/data4/"
   ]
  },
  {
   "cell_type": "code",
   "execution_count": 0,
   "metadata": {
    "application/vnd.databricks.v1+cell": {
     "cellMetadata": {
      "byteLimit": 2048000,
      "rowLimit": 10000
     },
     "inputWidgets": {},
     "nuid": "efa4b96c-81a0-44b3-83f2-4fa3aaca2c66",
     "showTitle": false,
     "title": ""
    }
   },
   "outputs": [],
   "source": [
    "%cp -r /dbfs/FileStore/shared_uploads/data /dbfs/FileStore/shared_uploads/data5/"
   ]
  },
  {
   "cell_type": "code",
   "execution_count": 0,
   "metadata": {
    "application/vnd.databricks.v1+cell": {
     "cellMetadata": {
      "byteLimit": 2048000,
      "rowLimit": 10000
     },
     "inputWidgets": {},
     "nuid": "a00a1376-6126-4044-a7bd-d22c1e9c4d99",
     "showTitle": false,
     "title": ""
    }
   },
   "outputs": [],
   "source": [
    "%cp -r /dbfs/FileStore/shared_uploads/data /dbfs/FileStore/shared_uploads/data6/"
   ]
  },
  {
   "cell_type": "code",
   "execution_count": 0,
   "metadata": {
    "application/vnd.databricks.v1+cell": {
     "cellMetadata": {
      "byteLimit": 2048000,
      "rowLimit": 10000
     },
     "inputWidgets": {},
     "nuid": "056a2143-3336-4eda-b205-3704edc5745c",
     "showTitle": false,
     "title": ""
    }
   },
   "outputs": [],
   "source": [
    "%cp -r /dbfs/FileStore/shared_uploads/data /dbfs/FileStore/shared_uploads/data7/"
   ]
  },
  {
   "cell_type": "code",
   "execution_count": 0,
   "metadata": {
    "application/vnd.databricks.v1+cell": {
     "cellMetadata": {
      "byteLimit": 2048000,
      "rowLimit": 10000
     },
     "inputWidgets": {},
     "nuid": "9d7c2f27-2cdf-44db-8e19-742e8309fcf3",
     "showTitle": false,
     "title": ""
    }
   },
   "outputs": [],
   "source": [
    "%cp -r /dbfs/FileStore/shared_uploads/data /dbfs/FileStore/shared_uploads/data8/"
   ]
  },
  {
   "cell_type": "code",
   "execution_count": 0,
   "metadata": {
    "application/vnd.databricks.v1+cell": {
     "cellMetadata": {
      "byteLimit": 2048000,
      "rowLimit": 10000
     },
     "inputWidgets": {},
     "nuid": "e0d5264a-3fae-434b-895c-bf16b75b1abd",
     "showTitle": false,
     "title": ""
    }
   },
   "outputs": [],
   "source": [
    "%cp -r /dbfs/FileStore/shared_uploads/data /dbfs/FileStore/shared_uploads/data9/"
   ]
  },
  {
   "cell_type": "code",
   "execution_count": 0,
   "metadata": {
    "application/vnd.databricks.v1+cell": {
     "cellMetadata": {
      "byteLimit": 2048000,
      "rowLimit": 10000
     },
     "inputWidgets": {},
     "nuid": "b7946725-2644-41a0-8bd6-5ebb6bafe2e9",
     "showTitle": false,
     "title": ""
    }
   },
   "outputs": [],
   "source": [
    "%cp -r /dbfs/FileStore/shared_uploads/data /dbfs/FileStore/shared_uploads/data10/"
   ]
  },
  {
   "cell_type": "code",
   "execution_count": 0,
   "metadata": {
    "application/vnd.databricks.v1+cell": {
     "cellMetadata": {
      "byteLimit": 2048000,
      "rowLimit": 10000
     },
     "inputWidgets": {},
     "nuid": "8155a299-f37f-4009-8d02-9d3484650e5c",
     "showTitle": false,
     "title": ""
    }
   },
   "outputs": [
    {
     "output_type": "stream",
     "name": "stdout",
     "output_type": "stream",
     "text": [
      "\u001B[43mNote: you may need to restart the kernel using dbutils.library.restartPython() to use updated packages.\u001B[0m\nCollecting google-cloud-storage\n  Using cached google_cloud_storage-2.13.0-py2.py3-none-any.whl (121 kB)\nCollecting google-resumable-media>=2.6.0\n  Using cached google_resumable_media-2.6.0-py2.py3-none-any.whl (80 kB)\nRequirement already satisfied: requests<3.0.0dev,>=2.18.0 in /databricks/python3/lib/python3.10/site-packages (from google-cloud-storage) (2.28.1)\nCollecting google-api-core!=2.0.*,!=2.1.*,!=2.2.*,!=2.3.0,<3.0.0dev,>=1.31.5\n  Using cached google_api_core-2.14.0-py3-none-any.whl (122 kB)\nCollecting google-crc32c<2.0dev,>=1.0\n  Using cached google_crc32c-1.5.0-cp310-cp310-manylinux_2_17_x86_64.manylinux2014_x86_64.whl (32 kB)\nCollecting google-auth<3.0dev,>=2.23.3\n  Using cached google_auth-2.25.0-py2.py3-none-any.whl (184 kB)\nCollecting google-cloud-core<3.0dev,>=2.3.0\n  Using cached google_cloud_core-2.3.3-py2.py3-none-any.whl (29 kB)\nCollecting protobuf!=3.20.0,!=3.20.1,!=4.21.0,!=4.21.1,!=4.21.2,!=4.21.3,!=4.21.4,!=4.21.5,<5.0.0.dev0,>=3.19.5\n  Using cached protobuf-4.25.1-cp37-abi3-manylinux2014_x86_64.whl (294 kB)\nRequirement already satisfied: googleapis-common-protos<2.0.dev0,>=1.56.2 in /databricks/python3/lib/python3.10/site-packages (from google-api-core!=2.0.*,!=2.1.*,!=2.2.*,!=2.3.0,<3.0.0dev,>=1.31.5->google-cloud-storage) (1.56.4)\nCollecting pyasn1-modules>=0.2.1\n  Using cached pyasn1_modules-0.3.0-py2.py3-none-any.whl (181 kB)\nCollecting rsa<5,>=3.1.4\n  Using cached rsa-4.9-py3-none-any.whl (34 kB)\nCollecting cachetools<6.0,>=2.0.0\n  Using cached cachetools-5.3.2-py3-none-any.whl (9.3 kB)\nRequirement already satisfied: charset-normalizer<3,>=2 in /databricks/python3/lib/python3.10/site-packages (from requests<3.0.0dev,>=2.18.0->google-cloud-storage) (2.0.4)\nRequirement already satisfied: certifi>=2017.4.17 in /databricks/python3/lib/python3.10/site-packages (from requests<3.0.0dev,>=2.18.0->google-cloud-storage) (2022.9.14)\nRequirement already satisfied: urllib3<1.27,>=1.21.1 in /databricks/python3/lib/python3.10/site-packages (from requests<3.0.0dev,>=2.18.0->google-cloud-storage) (1.26.11)\nRequirement already satisfied: idna<4,>=2.5 in /databricks/python3/lib/python3.10/site-packages (from requests<3.0.0dev,>=2.18.0->google-cloud-storage) (3.3)\nCollecting pyasn1<0.6.0,>=0.4.6\n  Using cached pyasn1-0.5.1-py2.py3-none-any.whl (84 kB)\nInstalling collected packages: pyasn1, protobuf, google-crc32c, cachetools, rsa, pyasn1-modules, google-resumable-media, google-auth, google-api-core, google-cloud-core, google-cloud-storage\n  Attempting uninstall: protobuf\n    Found existing installation: protobuf 3.19.4\n    Not uninstalling protobuf at /databricks/python3/lib/python3.10/site-packages, outside environment /local_disk0/.ephemeral_nfs/envs/pythonEnv-b55f420a-b8a9-4991-ba59-37ad3ab20108\n    Can't uninstall 'protobuf'. No files were found to uninstall.\nSuccessfully installed cachetools-5.3.2 google-api-core-2.14.0 google-auth-2.25.0 google-cloud-core-2.3.3 google-cloud-storage-2.13.0 google-crc32c-1.5.0 google-resumable-media-2.6.0 protobuf-4.25.1 pyasn1-0.5.1 pyasn1-modules-0.3.0 rsa-4.9\n\u001B[43mNote: you may need to restart the kernel using dbutils.library.restartPython() to use updated packages.\u001B[0m\n"
     ]
    }
   ],
   "source": [
    "%pip install --upgrade google-cloud-storage\n",
    "dbutils.library.restartPython()"
   ]
  },
  {
   "cell_type": "code",
   "execution_count": 0,
   "metadata": {
    "application/vnd.databricks.v1+cell": {
     "cellMetadata": {
      "byteLimit": 2048000,
      "rowLimit": 10000
     },
     "inputWidgets": {},
     "nuid": "5ba83b54-a863-4f94-888c-162912b8388b",
     "showTitle": false,
     "title": ""
    }
   },
   "outputs": [],
   "source": [
    "from pyspark.sql import SparkSession\n",
    "from google.cloud import storage\n",
    "import os\n",
    "from time import time\n",
    "import json\n",
    "from pyspark.dbutils import DBUtils\n",
    "\n",
    "from pathlib import Path\n",
    "\n",
    "# Initialize Spark Session\n",
    "spark = SparkSession.builder.appName(\"GCSFilesDownload\").getOrCreate()\n",
    "sc = spark.sparkContext\n",
    "\n",
    "dbutils = DBUtils(spark)\n",
    "\n",
    "# Google Cloud credentials and bucket details\n",
    "json_key_file_path = \"../../dbfs/FileStore/shared_uploads/bubbly_sandbox_406100_b00687afd8a0.json\"\n",
    "gcs_bucket_name = \"data516project\"\n",
    "gcs_blob_name = \"data516project/Military Aircraft Detection/data/dataset\"  # File path in GCS\n",
    "\n",
    "# Authenticate and initialize GCS client\n",
    "storage_client = storage.Client.from_service_account_json(json_key_file_path)\n",
    "bucket = storage_client.get_bucket(gcs_bucket_name)\n",
    "\n",
    "# List blobs in the GCS bucket\n",
    "blobs = list(bucket.list_blobs(prefix='Military Aircraft Detection/data/dataset'))\n",
    "filtered_blobs = [blob.name for blob in blobs if not (blob.name.endswith(\"/\") or blob.name.endswith(\".DS_Store\") or blob.name.endswith(\".csv\"))]"
   ]
  },
  {
   "cell_type": "code",
   "execution_count": 0,
   "metadata": {
    "application/vnd.databricks.v1+cell": {
     "cellMetadata": {},
     "inputWidgets": {},
     "nuid": "534051f8-3cf5-4215-803d-00786443e1d3",
     "showTitle": false,
     "title": ""
    }
   },
   "outputs": [],
   "source": []
  },
  {
   "cell_type": "code",
   "execution_count": 0,
   "metadata": {
    "application/vnd.databricks.v1+cell": {
     "cellMetadata": {
      "byteLimit": 2048000,
      "rowLimit": 10000
     },
     "inputWidgets": {},
     "nuid": "de64b4a9-c3c5-46ba-b115-7f9ad93f399e",
     "showTitle": false,
     "title": ""
    }
   },
   "outputs": [
    {
     "output_type": "display_data",
     "data": {
      "text/html": [
       "<style scoped>\n",
       "  .ansiout {\n",
       "    display: block;\n",
       "    unicode-bidi: embed;\n",
       "    white-space: pre-wrap;\n",
       "    word-wrap: break-word;\n",
       "    word-break: break-all;\n",
       "    font-family: \"Menlo\", \"Monaco\", \"Consolas\", \"Ubuntu Mono\", \"Source Code Pro\", monospace;\n",
       "    font-size: 13px;\n",
       "    color: #555;\n",
       "    margin-left: 4px;\n",
       "    line-height: 19px;\n",
       "  }\n",
       "</style>"
      ]
     },
     "metadata": {
      "application/vnd.databricks.v1+output": {
       "arguments": {},
       "data": "",
       "errorSummary": "The spark context has stopped and the driver is restarting. Your notebook will be automatically reattached.",
       "errorTraceType": "html",
       "metadata": {},
       "type": "ipynbError"
      }
     },
     "output_type": "display_data"
    }
   ],
   "source": [
    "# Define function to download a file\n",
    "def download_blob(blob_name):\n",
    "    storage_client = storage.Client.from_service_account_info(\n",
    "        {\n",
    "            \"type\": \"service_account\",\n",
    "            \"project_id\": \"bubbly-sandbox-406100\",\n",
    "            \"private_key_id\": \"b00687afd8a0557d2daa2281fdf8a9ca4667b171\",\n",
    "            \"private_key\": \"-----END PRIVATE KEY-----\\n\",\n",
    "            \"client_email\": \"452869396641-compute@developer.gserviceaccount.com\",\n",
    "            \"client_id\": \"111941241038080001862\",\n",
    "            \"auth_uri\": \"https://accounts.google.com/o/oauth2/auth\",\n",
    "            \"token_uri\": \"https://oauth2.googleapis.com/token\",\n",
    "            \"auth_provider_x509_cert_url\": \"https://www.googleapis.com/oauth2/v1/certs\",\n",
    "            \"client_x509_cert_url\": \"https://www.googleapis.com/robot/v1/metadata/x509/452869396641-compute%40developer.gserviceaccount.com\",\n",
    "            \"universe_domain\": \"googleapis.com\"\n",
    "        })\n",
    "    bucket = storage_client.get_bucket(gcs_bucket_name)\n",
    "    blob = bucket.blob(blob_name)\n",
    "    local_path = '/dbfs/FileStore/shared_uploads/data_parallel/' + blob_name.split('/')[-1]\n",
    "    blob.download_to_filename(local_path)\n",
    "    return local_path\n",
    "\n",
    "# Parallelize the download process\n",
    "time_start = time()\n",
    "rdd = sc.parallelize(filtered_blobs)\n",
    "rdd.map(download_blob).collect()\n",
    "\n",
    "# Log the time taken\n",
    "print(f'Download Process took {time() - time_start}s for approximately {len(filtered_blobs)} files')\n",
    "\n",
    "# Stop the Spark session\n",
    "spark.stop()"
   ]
  }
 ],
 "metadata": {
  "application/vnd.databricks.v1+notebook": {
   "dashboards": [],
   "language": "python",
   "notebookMetadata": {
    "pythonIndentUnit": 4
   },
   "notebookName": "Data Download",
   "widgets": {}
  }
 },
 "nbformat": 4,
 "nbformat_minor": 0
}
